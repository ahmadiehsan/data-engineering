{
 "cells": [
  {
   "cell_type": "code",
   "execution_count": null,
   "metadata": {},
   "outputs": [],
   "source": [
    "!pip install kafka-python"
   ]
  },
  {
   "cell_type": "code",
   "execution_count": 1,
   "metadata": {},
   "outputs": [],
   "source": [
    "import time \n",
    "from kafka import KafkaConsumer\n",
    "\n"
   ]
  },
  {
   "cell_type": "code",
   "execution_count": 2,
   "metadata": {},
   "outputs": [],
   "source": [
    "brokers = [\"kafka1:9092\",\"kafka2:9092\"]"
   ]
  },
  {
   "cell_type": "raw",
   "metadata": {},
   "source": []
  },
  {
   "cell_type": "code",
   "execution_count": null,
   "metadata": {},
   "outputs": [
    {
     "name": "stdout",
     "output_type": "stream",
     "text": [
      "Tut01\n",
      "    1 : Tut01:0:0: key=None value= #    1 - New Message Produced.\n",
      "    2 : Tut01:0:1: key=None value= #    2 - New Message Produced.\n",
      "    3 : Tut01:0:2: key=None value= #    3 - New Message Produced.\n",
      "    4 : Tut01:0:3: key=None value= #    4 - New Message Produced.\n",
      "    5 : Tut01:0:4: key=None value= #    5 - New Message Produced.\n",
      "    6 : Tut01:0:5: key=None value= #    6 - New Message Produced.\n",
      "    7 : Tut01:0:6: key=None value= #    7 - New Message Produced.\n",
      "    8 : Tut01:0:7: key=None value= #    8 - New Message Produced.\n",
      "    9 : Tut01:0:8: key=None value= #    9 - New Message Produced.\n",
      "   10 : Tut01:0:9: key=None value= #   10 - New Message Produced.\n",
      "   11 : Tut01:0:10: key=None value= #   11 - New Message Produced.\n",
      "   12 : Tut01:0:11: key=None value= #   12 - New Message Produced.\n",
      "   13 : Tut01:0:12: key=None value= #   13 - New Message Produced.\n",
      "   14 : Tut01:0:13: key=None value= #   14 - New Message Produced.\n",
      "   15 : Tut01:0:14: key=None value= #   15 - New Message Produced.\n",
      "   16 : Tut01:0:15: key=None value= #   16 - New Message Produced.\n",
      "   17 : Tut01:0:16: key=None value= #   17 - New Message Produced.\n",
      "   18 : Tut01:0:17: key=None value= #   18 - New Message Produced.\n",
      "   19 : Tut01:0:18: key=None value= #   19 - New Message Produced.\n",
      "   20 : Tut01:0:19: key=None value= #   20 - New Message Produced.\n",
      "   21 : Tut01:0:20: key=None value=         #    1 - New Message.\n",
      "   22 : Tut01:0:21: key=None value=         #    2 - New Message.\n",
      "   23 : Tut01:0:22: key=None value=         #    3 - New Message.\n",
      "   24 : Tut01:0:23: key=None value=         #    4 - New Message.\n",
      "   25 : Tut01:0:24: key=None value=         #    5 - New Message.\n",
      "   26 : Tut01:0:25: key=None value=         #    6 - New Message.\n"
     ]
    }
   ],
   "source": [
    "#Consumer-Tut0-1\n",
    "\n",
    "topic = \"Tut01\"\n",
    "print(topic)\n",
    "# To consume latest messages and auto-commit offsets\n",
    "consumer = KafkaConsumer(topic,  bootstrap_servers=brokers, auto_offset_reset='earliest',group_id=None, )\n",
    "cnt=1\n",
    "for message in consumer:\n",
    "    print (\"%5d : %s:%d:%d: key=%s value=%30s\" % (cnt,message.topic, message.partition,\n",
    "                                          message.offset, message.key,\n",
    "                                          message.value.decode(\"utf-8\")))\n",
    "    cnt+=1"
   ]
  },
  {
   "cell_type": "code",
   "execution_count": 8,
   "metadata": {},
   "outputs": [
    {
     "name": "stdout",
     "output_type": "stream",
     "text": [
      "    1 : Stream1:  0: 81: key=None value={'count': 11, 'time': '2020-10-12T09:51:19.173457'}\n",
      "    2 : Stream1:  0: 82: key=None value={'count': 12, 'time': '2020-10-12T09:51:24.178657'}\n",
      "    3 : Stream1:  0: 83: key=None value={'count': 13, 'time': '2020-10-12T09:51:29.185371'}\n",
      "    4 : Stream1:  0: 84: key=None value={'count': 14, 'time': '2020-10-12T09:51:34.190029'}\n",
      "    5 : Stream1:  0: 85: key=None value={'count': 15, 'time': '2020-10-12T09:51:39.197251'}\n",
      "    6 : Stream1:  0: 86: key=None value={'count': 16, 'time': '2020-10-12T09:51:44.203115'}\n",
      "    7 : Stream1:  0: 87: key=None value={'count': 17, 'time': '2020-10-12T09:51:49.207580'}\n",
      "    8 : Stream1:  0: 88: key=None value={'count': 18, 'time': '2020-10-12T09:51:54.213520'}\n",
      "    9 : Stream1:  0: 89: key=None value={'count': 19, 'time': '2020-10-12T09:51:59.216969'}\n",
      "   10 : Stream1:  0: 90: key=None value={'count': 20, 'time': '2020-10-12T09:52:04.223146'}\n",
      "   11 : Stream1:  0: 91: key=None value={'count': 21, 'time': '2020-10-12T09:52:09.228461'}\n",
      "   12 : Stream1:  0: 92: key=None value={'count': 22, 'time': '2020-10-12T09:52:14.233495'}\n",
      "   13 : Stream1:  0: 93: key=None value={'count': 23, 'time': '2020-10-12T09:52:19.241442'}\n",
      "   14 : Stream1:  0: 94: key=None value={'count': 24, 'time': '2020-10-12T09:52:24.244378'}\n",
      "   15 : Stream1:  0: 95: key=None value={'count': 25, 'time': '2020-10-12T09:52:29.251450'}\n",
      "   16 : Stream1:  0: 96: key=None value={'count': 26, 'time': '2020-10-12T09:52:34.259433'}\n",
      "   17 : Stream1:  0: 97: key=None value={'count': 27, 'time': '2020-10-12T09:52:39.266459'}\n",
      "   18 : Stream1:  0: 98: key=None value={'count': 28, 'time': '2020-10-12T09:52:44.270398'}\n",
      "   19 : Stream1:  0: 99: key=None value={'count': 29, 'time': '2020-10-12T09:52:49.276545'}\n",
      "   20 : Stream1:  0:100: key=None value={'count': 30, 'time': '2020-10-12T09:52:54.283311'}\n",
      "   21 : Stream1:  0:101: key=None value={'count': 31, 'time': '2020-10-12T09:52:59.284753'}\n",
      "   22 : Stream1:  0:102: key=None value={'count': 32, 'time': '2020-10-12T09:53:04.290245'}\n",
      "   23 : Stream1:  0:103: key=None value={'count': 33, 'time': '2020-10-12T09:53:09.294015'}\n",
      "   24 : Stream1:  0:104: key=None value={'count': 34, 'time': '2020-10-12T09:53:14.299141'}\n",
      "   25 : Stream1:  0:105: key=None value={'count': 35, 'time': '2020-10-12T09:53:19.306178'}\n",
      "   26 : Stream1:  0:106: key=None value={'count': 36, 'time': '2020-10-12T09:53:24.313965'}\n",
      "   27 : Stream1:  0:107: key=None value={'count': 37, 'time': '2020-10-12T09:53:29.320444'}\n",
      "   28 : Stream1:  0:108: key=None value={'count': 38, 'time': '2020-10-12T09:53:34.328174'}\n",
      "   29 : Stream1:  0:109: key=None value={'count': 39, 'time': '2020-10-12T09:53:39.334327'}\n",
      "   30 : Stream1:  0:110: key=None value={'count': 40, 'time': '2020-10-12T09:53:44.340300'}\n",
      "   31 : Stream1:  0:111: key=None value={'count': 41, 'time': '2020-10-12T09:53:49.345536'}\n",
      "   32 : Stream1:  0:112: key=None value={'count': 42, 'time': '2020-10-12T09:53:54.349448'}\n",
      "   33 : Stream1:  0:113: key=None value={'count': 43, 'time': '2020-10-12T09:53:59.356441'}\n",
      "   34 : Stream1:  0:114: key=None value={'count': 44, 'time': '2020-10-12T09:54:04.365465'}\n",
      "   35 : Stream1:  0:115: key=None value={'count': 45, 'time': '2020-10-12T09:54:09.369180'}\n",
      "   36 : Stream1:  0:116: key=None value={'count': 46, 'time': '2020-10-12T09:54:14.373393'}\n",
      "   37 : Stream1:  0:117: key=None value={'count': 47, 'time': '2020-10-12T09:54:19.378213'}\n",
      "   38 : Stream1:  0:118: key=None value={'count': 48, 'time': '2020-10-12T09:54:24.384636'}\n",
      "   39 : Stream1:  0:119: key=None value={'count': 49, 'time': '2020-10-12T09:54:29.393548'}\n",
      "   40 : Stream1:  0:120: key=None value={'count': 50, 'time': '2020-10-12T09:54:34.400430'}\n",
      "   41 : Stream1:  0:121: key=None value={'count': 51, 'time': '2020-10-12T09:54:39.404059'}\n",
      "   42 : Stream1:  0:122: key=None value={'count': 52, 'time': '2020-10-12T09:54:44.410833'}\n",
      "   43 : Stream1:  0:123: key=None value={'count': 53, 'time': '2020-10-12T09:54:49.413939'}\n",
      "   44 : Stream1:  0:124: key=None value={'count': 54, 'time': '2020-10-12T09:54:54.418614'}\n",
      "   45 : Stream1:  0:125: key=None value={'count': 55, 'time': '2020-10-12T09:54:59.423856'}\n",
      "   46 : Stream1:  0:126: key=None value={'count': 56, 'time': '2020-10-12T09:55:04.426451'}\n",
      "   47 : Stream1:  0:127: key=None value={'count': 57, 'time': '2020-10-12T09:55:09.432614'}\n",
      "   48 : Stream1:  0:128: key=None value={'count': 58, 'time': '2020-10-12T09:55:14.434607'}\n",
      "   49 : Stream1:  0:129: key=None value={'count': 59, 'time': '2020-10-12T09:55:19.441866'}\n",
      "   50 : Stream1:  0:130: key=None value={'count': 60, 'time': '2020-10-12T09:55:24.450366'}\n",
      "   51 : Stream1:  0:131: key=None value={'count': 61, 'time': '2020-10-12T09:55:29.457400'}\n",
      "   52 : Stream1:  0:132: key=None value={'count': 62, 'time': '2020-10-12T09:55:34.463410'}\n",
      "   53 : Stream1:  0:133: key=None value={'count': 63, 'time': '2020-10-12T09:55:39.471179'}\n",
      "   54 : Stream1:  0:134: key=None value={'count': 64, 'time': '2020-10-12T09:55:44.474282'}\n",
      "   55 : Stream1:  0:135: key=None value={'count': 65, 'time': '2020-10-12T09:55:49.477571'}\n",
      "   56 : Stream1:  0:136: key=None value={'count': 66, 'time': '2020-10-12T09:55:54.482558'}\n",
      "   57 : Stream1:  0:137: key=None value={'count': 67, 'time': '2020-10-12T09:55:59.487582'}\n",
      "   58 : Stream1:  0:138: key=None value={'count': 68, 'time': '2020-10-12T09:56:04.494993'}\n",
      "   59 : Stream1:  0:139: key=None value={'count': 69, 'time': '2020-10-12T09:56:09.501004'}\n",
      "   60 : Stream1:  0:140: key=None value={'count': 70, 'time': '2020-10-12T09:56:14.505271'}\n",
      "   61 : Stream1:  0:141: key=None value={'count': 71, 'time': '2020-10-12T09:56:19.511365'}\n",
      "   62 : Stream1:  0:142: key=None value={'count': 72, 'time': '2020-10-12T09:56:24.514749'}\n",
      "   63 : Stream1:  0:143: key=None value={'count': 73, 'time': '2020-10-12T09:56:29.519681'}\n",
      "   64 : Stream1:  0:144: key=None value={'count': 74, 'time': '2020-10-12T09:56:34.525868'}\n",
      "   65 : Stream1:  0:145: key=None value={'count': 75, 'time': '2020-10-12T09:56:39.530493'}\n",
      "   66 : Stream1:  0:146: key=None value={'count': 76, 'time': '2020-10-12T09:56:44.534681'}\n",
      "   67 : Stream1:  0:147: key=None value={'count': 77, 'time': '2020-10-12T09:56:49.541589'}\n",
      "   68 : Stream1:  0:148: key=None value={'count': 78, 'time': '2020-10-12T09:56:54.547681'}\n",
      "   69 : Stream1:  0:149: key=None value={'count': 79, 'time': '2020-10-12T09:56:59.553871'}\n",
      "   70 : Stream1:  0:150: key=None value={'count': 80, 'time': '2020-10-12T09:57:04.560445'}\n",
      "   71 : Stream1:  0:151: key=None value={'count': 81, 'time': '2020-10-12T09:57:09.567374'}\n",
      "   72 : Stream1:  0:152: key=None value={'count': 82, 'time': '2020-10-12T09:57:14.574755'}\n",
      "   73 : Stream1:  0:153: key=None value={'count': 83, 'time': '2020-10-12T09:57:19.580391'}\n",
      "   74 : Stream1:  0:154: key=None value={'count': 84, 'time': '2020-10-12T09:57:24.586406'}\n",
      "   75 : Stream1:  0:155: key=None value={'count': 85, 'time': '2020-10-12T09:57:29.592425'}\n",
      "   76 : Stream1:  0:156: key=None value={'count': 86, 'time': '2020-10-12T09:57:34.595227'}\n",
      "   77 : Stream1:  0:157: key=None value={'count': 87, 'time': '2020-10-12T09:57:39.602457'}\n",
      "   78 : Stream1:  0:158: key=None value={'count': 88, 'time': '2020-10-12T09:57:44.609456'}\n",
      "   79 : Stream1:  0:159: key=None value={'count': 89, 'time': '2020-10-12T09:57:49.614490'}\n",
      "   80 : Stream1:  0:160: key=None value={'count': 90, 'time': '2020-10-12T09:57:54.621544'}\n",
      "   81 : Stream1:  0:161: key=None value={'count': 91, 'time': '2020-10-12T09:57:59.627469'}\n",
      "   82 : Stream1:  0:162: key=None value={'count': 92, 'time': '2020-10-12T09:58:04.633625'}\n",
      "   83 : Stream1:  0:163: key=None value={'count': 93, 'time': '2020-10-12T09:58:09.649109'}\n",
      "   84 : Stream1:  0:164: key=None value={'count': 94, 'time': '2020-10-12T09:58:14.657127'}\n",
      "   85 : Stream1:  0:165: key=None value={'count': 95, 'time': '2020-10-12T09:58:19.665391'}\n",
      "   86 : Stream1:  0:166: key=None value={'count': 96, 'time': '2020-10-12T09:58:24.670190'}\n",
      "   87 : Stream1:  0:167: key=None value={'count': 97, 'time': '2020-10-12T09:58:29.674429'}\n",
      "   88 : Stream1:  0:168: key=None value={'count': 98, 'time': '2020-10-12T09:58:34.680087'}\n",
      "   89 : Stream1:  0:169: key=None value={'count': 99, 'time': '2020-10-12T09:58:39.684239'}\n"
     ]
    },
    {
     "ename": "KeyboardInterrupt",
     "evalue": "",
     "output_type": "error",
     "traceback": [
      "\u001b[0;31m---------------------------------------------------------------------------\u001b[0m",
      "\u001b[0;31mKeyboardInterrupt\u001b[0m                         Traceback (most recent call last)",
      "\u001b[0;32m<ipython-input-8-3e57773d89ed>\u001b[0m in \u001b[0;36m<module>\u001b[0;34m\u001b[0m\n\u001b[1;32m      7\u001b[0m \u001b[0mconsumer\u001b[0m \u001b[0;34m=\u001b[0m \u001b[0mKafkaConsumer\u001b[0m\u001b[0;34m(\u001b[0m\u001b[0mtopic\u001b[0m\u001b[0;34m,\u001b[0m  \u001b[0mbootstrap_servers\u001b[0m\u001b[0;34m=\u001b[0m\u001b[0mbrokers\u001b[0m\u001b[0;34m,\u001b[0m \u001b[0mauto_offset_reset\u001b[0m\u001b[0;34m=\u001b[0m\u001b[0;34m'latest'\u001b[0m\u001b[0;34m,\u001b[0m \u001b[0mgroup_id\u001b[0m\u001b[0;34m=\u001b[0m\u001b[0;32mNone\u001b[0m\u001b[0;34m)\u001b[0m\u001b[0;34m\u001b[0m\u001b[0;34m\u001b[0m\u001b[0m\n\u001b[1;32m      8\u001b[0m \u001b[0mcnt\u001b[0m\u001b[0;34m=\u001b[0m\u001b[0;36m1\u001b[0m\u001b[0;34m\u001b[0m\u001b[0;34m\u001b[0m\u001b[0m\n\u001b[0;32m----> 9\u001b[0;31m \u001b[0;32mfor\u001b[0m \u001b[0mmessage\u001b[0m \u001b[0;32min\u001b[0m \u001b[0mconsumer\u001b[0m\u001b[0;34m:\u001b[0m\u001b[0;34m\u001b[0m\u001b[0;34m\u001b[0m\u001b[0m\n\u001b[0m\u001b[1;32m     10\u001b[0m     print (\"%5d : %s:%3d:%3d: key=%s value=%30s\" % (cnt,message.topic, message.partition,\n\u001b[1;32m     11\u001b[0m                                           \u001b[0mmessage\u001b[0m\u001b[0;34m.\u001b[0m\u001b[0moffset\u001b[0m\u001b[0;34m,\u001b[0m \u001b[0mmessage\u001b[0m\u001b[0;34m.\u001b[0m\u001b[0mkey\u001b[0m\u001b[0;34m,\u001b[0m\u001b[0;34m\u001b[0m\u001b[0;34m\u001b[0m\u001b[0m\n",
      "\u001b[0;32m/opt/conda/lib/python3.8/site-packages/kafka/consumer/group.py\u001b[0m in \u001b[0;36m__next__\u001b[0;34m(self)\u001b[0m\n\u001b[1;32m   1191\u001b[0m             \u001b[0;32mreturn\u001b[0m \u001b[0mself\u001b[0m\u001b[0;34m.\u001b[0m\u001b[0mnext_v1\u001b[0m\u001b[0;34m(\u001b[0m\u001b[0;34m)\u001b[0m\u001b[0;34m\u001b[0m\u001b[0;34m\u001b[0m\u001b[0m\n\u001b[1;32m   1192\u001b[0m         \u001b[0;32melse\u001b[0m\u001b[0;34m:\u001b[0m\u001b[0;34m\u001b[0m\u001b[0;34m\u001b[0m\u001b[0m\n\u001b[0;32m-> 1193\u001b[0;31m             \u001b[0;32mreturn\u001b[0m \u001b[0mself\u001b[0m\u001b[0;34m.\u001b[0m\u001b[0mnext_v2\u001b[0m\u001b[0;34m(\u001b[0m\u001b[0;34m)\u001b[0m\u001b[0;34m\u001b[0m\u001b[0;34m\u001b[0m\u001b[0m\n\u001b[0m\u001b[1;32m   1194\u001b[0m \u001b[0;34m\u001b[0m\u001b[0m\n\u001b[1;32m   1195\u001b[0m     \u001b[0;32mdef\u001b[0m \u001b[0mnext_v2\u001b[0m\u001b[0;34m(\u001b[0m\u001b[0mself\u001b[0m\u001b[0;34m)\u001b[0m\u001b[0;34m:\u001b[0m\u001b[0;34m\u001b[0m\u001b[0;34m\u001b[0m\u001b[0m\n",
      "\u001b[0;32m/opt/conda/lib/python3.8/site-packages/kafka/consumer/group.py\u001b[0m in \u001b[0;36mnext_v2\u001b[0;34m(self)\u001b[0m\n\u001b[1;32m   1199\u001b[0m                 \u001b[0mself\u001b[0m\u001b[0;34m.\u001b[0m\u001b[0m_iterator\u001b[0m \u001b[0;34m=\u001b[0m \u001b[0mself\u001b[0m\u001b[0;34m.\u001b[0m\u001b[0m_message_generator_v2\u001b[0m\u001b[0;34m(\u001b[0m\u001b[0;34m)\u001b[0m\u001b[0;34m\u001b[0m\u001b[0;34m\u001b[0m\u001b[0m\n\u001b[1;32m   1200\u001b[0m             \u001b[0;32mtry\u001b[0m\u001b[0;34m:\u001b[0m\u001b[0;34m\u001b[0m\u001b[0;34m\u001b[0m\u001b[0m\n\u001b[0;32m-> 1201\u001b[0;31m                 \u001b[0;32mreturn\u001b[0m \u001b[0mnext\u001b[0m\u001b[0;34m(\u001b[0m\u001b[0mself\u001b[0m\u001b[0;34m.\u001b[0m\u001b[0m_iterator\u001b[0m\u001b[0;34m)\u001b[0m\u001b[0;34m\u001b[0m\u001b[0;34m\u001b[0m\u001b[0m\n\u001b[0m\u001b[1;32m   1202\u001b[0m             \u001b[0;32mexcept\u001b[0m \u001b[0mStopIteration\u001b[0m\u001b[0;34m:\u001b[0m\u001b[0;34m\u001b[0m\u001b[0;34m\u001b[0m\u001b[0m\n\u001b[1;32m   1203\u001b[0m                 \u001b[0mself\u001b[0m\u001b[0;34m.\u001b[0m\u001b[0m_iterator\u001b[0m \u001b[0;34m=\u001b[0m \u001b[0;32mNone\u001b[0m\u001b[0;34m\u001b[0m\u001b[0;34m\u001b[0m\u001b[0m\n",
      "\u001b[0;32m/opt/conda/lib/python3.8/site-packages/kafka/consumer/group.py\u001b[0m in \u001b[0;36m_message_generator_v2\u001b[0;34m(self)\u001b[0m\n\u001b[1;32m   1114\u001b[0m     \u001b[0;32mdef\u001b[0m \u001b[0m_message_generator_v2\u001b[0m\u001b[0;34m(\u001b[0m\u001b[0mself\u001b[0m\u001b[0;34m)\u001b[0m\u001b[0;34m:\u001b[0m\u001b[0;34m\u001b[0m\u001b[0;34m\u001b[0m\u001b[0m\n\u001b[1;32m   1115\u001b[0m         \u001b[0mtimeout_ms\u001b[0m \u001b[0;34m=\u001b[0m \u001b[0;36m1000\u001b[0m \u001b[0;34m*\u001b[0m \u001b[0;34m(\u001b[0m\u001b[0mself\u001b[0m\u001b[0;34m.\u001b[0m\u001b[0m_consumer_timeout\u001b[0m \u001b[0;34m-\u001b[0m \u001b[0mtime\u001b[0m\u001b[0;34m.\u001b[0m\u001b[0mtime\u001b[0m\u001b[0;34m(\u001b[0m\u001b[0;34m)\u001b[0m\u001b[0;34m)\u001b[0m\u001b[0;34m\u001b[0m\u001b[0;34m\u001b[0m\u001b[0m\n\u001b[0;32m-> 1116\u001b[0;31m         \u001b[0mrecord_map\u001b[0m \u001b[0;34m=\u001b[0m \u001b[0mself\u001b[0m\u001b[0;34m.\u001b[0m\u001b[0mpoll\u001b[0m\u001b[0;34m(\u001b[0m\u001b[0mtimeout_ms\u001b[0m\u001b[0;34m=\u001b[0m\u001b[0mtimeout_ms\u001b[0m\u001b[0;34m,\u001b[0m \u001b[0mupdate_offsets\u001b[0m\u001b[0;34m=\u001b[0m\u001b[0;32mFalse\u001b[0m\u001b[0;34m)\u001b[0m\u001b[0;34m\u001b[0m\u001b[0;34m\u001b[0m\u001b[0m\n\u001b[0m\u001b[1;32m   1117\u001b[0m         \u001b[0;32mfor\u001b[0m \u001b[0mtp\u001b[0m\u001b[0;34m,\u001b[0m \u001b[0mrecords\u001b[0m \u001b[0;32min\u001b[0m \u001b[0msix\u001b[0m\u001b[0;34m.\u001b[0m\u001b[0miteritems\u001b[0m\u001b[0;34m(\u001b[0m\u001b[0mrecord_map\u001b[0m\u001b[0;34m)\u001b[0m\u001b[0;34m:\u001b[0m\u001b[0;34m\u001b[0m\u001b[0;34m\u001b[0m\u001b[0m\n\u001b[1;32m   1118\u001b[0m             \u001b[0;31m# Generators are stateful, and it is possible that the tp / records\u001b[0m\u001b[0;34m\u001b[0m\u001b[0;34m\u001b[0m\u001b[0;34m\u001b[0m\u001b[0m\n",
      "\u001b[0;32m/opt/conda/lib/python3.8/site-packages/kafka/consumer/group.py\u001b[0m in \u001b[0;36mpoll\u001b[0;34m(self, timeout_ms, max_records, update_offsets)\u001b[0m\n\u001b[1;32m    653\u001b[0m         \u001b[0mremaining\u001b[0m \u001b[0;34m=\u001b[0m \u001b[0mtimeout_ms\u001b[0m\u001b[0;34m\u001b[0m\u001b[0;34m\u001b[0m\u001b[0m\n\u001b[1;32m    654\u001b[0m         \u001b[0;32mwhile\u001b[0m \u001b[0;32mTrue\u001b[0m\u001b[0;34m:\u001b[0m\u001b[0;34m\u001b[0m\u001b[0;34m\u001b[0m\u001b[0m\n\u001b[0;32m--> 655\u001b[0;31m             \u001b[0mrecords\u001b[0m \u001b[0;34m=\u001b[0m \u001b[0mself\u001b[0m\u001b[0;34m.\u001b[0m\u001b[0m_poll_once\u001b[0m\u001b[0;34m(\u001b[0m\u001b[0mremaining\u001b[0m\u001b[0;34m,\u001b[0m \u001b[0mmax_records\u001b[0m\u001b[0;34m,\u001b[0m \u001b[0mupdate_offsets\u001b[0m\u001b[0;34m=\u001b[0m\u001b[0mupdate_offsets\u001b[0m\u001b[0;34m)\u001b[0m\u001b[0;34m\u001b[0m\u001b[0;34m\u001b[0m\u001b[0m\n\u001b[0m\u001b[1;32m    656\u001b[0m             \u001b[0;32mif\u001b[0m \u001b[0mrecords\u001b[0m\u001b[0;34m:\u001b[0m\u001b[0;34m\u001b[0m\u001b[0;34m\u001b[0m\u001b[0m\n\u001b[1;32m    657\u001b[0m                 \u001b[0;32mreturn\u001b[0m \u001b[0mrecords\u001b[0m\u001b[0;34m\u001b[0m\u001b[0;34m\u001b[0m\u001b[0m\n",
      "\u001b[0;32m/opt/conda/lib/python3.8/site-packages/kafka/consumer/group.py\u001b[0m in \u001b[0;36m_poll_once\u001b[0;34m(self, timeout_ms, max_records, update_offsets)\u001b[0m\n\u001b[1;32m    700\u001b[0m \u001b[0;34m\u001b[0m\u001b[0m\n\u001b[1;32m    701\u001b[0m         \u001b[0mtimeout_ms\u001b[0m \u001b[0;34m=\u001b[0m \u001b[0mmin\u001b[0m\u001b[0;34m(\u001b[0m\u001b[0mtimeout_ms\u001b[0m\u001b[0;34m,\u001b[0m \u001b[0mself\u001b[0m\u001b[0;34m.\u001b[0m\u001b[0m_coordinator\u001b[0m\u001b[0;34m.\u001b[0m\u001b[0mtime_to_next_poll\u001b[0m\u001b[0;34m(\u001b[0m\u001b[0;34m)\u001b[0m \u001b[0;34m*\u001b[0m \u001b[0;36m1000\u001b[0m\u001b[0;34m)\u001b[0m\u001b[0;34m\u001b[0m\u001b[0;34m\u001b[0m\u001b[0m\n\u001b[0;32m--> 702\u001b[0;31m         \u001b[0mself\u001b[0m\u001b[0;34m.\u001b[0m\u001b[0m_client\u001b[0m\u001b[0;34m.\u001b[0m\u001b[0mpoll\u001b[0m\u001b[0;34m(\u001b[0m\u001b[0mtimeout_ms\u001b[0m\u001b[0;34m=\u001b[0m\u001b[0mtimeout_ms\u001b[0m\u001b[0;34m)\u001b[0m\u001b[0;34m\u001b[0m\u001b[0;34m\u001b[0m\u001b[0m\n\u001b[0m\u001b[1;32m    703\u001b[0m         \u001b[0;31m# after the long poll, we should check whether the group needs to rebalance\u001b[0m\u001b[0;34m\u001b[0m\u001b[0;34m\u001b[0m\u001b[0;34m\u001b[0m\u001b[0m\n\u001b[1;32m    704\u001b[0m         \u001b[0;31m# prior to returning data so that the group can stabilize faster\u001b[0m\u001b[0;34m\u001b[0m\u001b[0;34m\u001b[0m\u001b[0;34m\u001b[0m\u001b[0m\n",
      "\u001b[0;32m/opt/conda/lib/python3.8/site-packages/kafka/client_async.py\u001b[0m in \u001b[0;36mpoll\u001b[0;34m(self, timeout_ms, future)\u001b[0m\n\u001b[1;32m    600\u001b[0m                     \u001b[0mtimeout\u001b[0m \u001b[0;34m=\u001b[0m \u001b[0mmax\u001b[0m\u001b[0;34m(\u001b[0m\u001b[0;36m0\u001b[0m\u001b[0;34m,\u001b[0m \u001b[0mtimeout\u001b[0m\u001b[0;34m)\u001b[0m  \u001b[0;31m# avoid negative timeouts\u001b[0m\u001b[0;34m\u001b[0m\u001b[0;34m\u001b[0m\u001b[0m\n\u001b[1;32m    601\u001b[0m \u001b[0;34m\u001b[0m\u001b[0m\n\u001b[0;32m--> 602\u001b[0;31m                 \u001b[0mself\u001b[0m\u001b[0;34m.\u001b[0m\u001b[0m_poll\u001b[0m\u001b[0;34m(\u001b[0m\u001b[0mtimeout\u001b[0m \u001b[0;34m/\u001b[0m \u001b[0;36m1000\u001b[0m\u001b[0;34m)\u001b[0m\u001b[0;34m\u001b[0m\u001b[0;34m\u001b[0m\u001b[0m\n\u001b[0m\u001b[1;32m    603\u001b[0m \u001b[0;34m\u001b[0m\u001b[0m\n\u001b[1;32m    604\u001b[0m             \u001b[0;31m# called without the lock to avoid deadlock potential\u001b[0m\u001b[0;34m\u001b[0m\u001b[0;34m\u001b[0m\u001b[0;34m\u001b[0m\u001b[0m\n",
      "\u001b[0;32m/opt/conda/lib/python3.8/site-packages/kafka/client_async.py\u001b[0m in \u001b[0;36m_poll\u001b[0;34m(self, timeout)\u001b[0m\n\u001b[1;32m    632\u001b[0m \u001b[0;34m\u001b[0m\u001b[0m\n\u001b[1;32m    633\u001b[0m         \u001b[0mstart_select\u001b[0m \u001b[0;34m=\u001b[0m \u001b[0mtime\u001b[0m\u001b[0;34m.\u001b[0m\u001b[0mtime\u001b[0m\u001b[0;34m(\u001b[0m\u001b[0;34m)\u001b[0m\u001b[0;34m\u001b[0m\u001b[0;34m\u001b[0m\u001b[0m\n\u001b[0;32m--> 634\u001b[0;31m         \u001b[0mready\u001b[0m \u001b[0;34m=\u001b[0m \u001b[0mself\u001b[0m\u001b[0;34m.\u001b[0m\u001b[0m_selector\u001b[0m\u001b[0;34m.\u001b[0m\u001b[0mselect\u001b[0m\u001b[0;34m(\u001b[0m\u001b[0mtimeout\u001b[0m\u001b[0;34m)\u001b[0m\u001b[0;34m\u001b[0m\u001b[0;34m\u001b[0m\u001b[0m\n\u001b[0m\u001b[1;32m    635\u001b[0m         \u001b[0mend_select\u001b[0m \u001b[0;34m=\u001b[0m \u001b[0mtime\u001b[0m\u001b[0;34m.\u001b[0m\u001b[0mtime\u001b[0m\u001b[0;34m(\u001b[0m\u001b[0;34m)\u001b[0m\u001b[0;34m\u001b[0m\u001b[0;34m\u001b[0m\u001b[0m\n\u001b[1;32m    636\u001b[0m         \u001b[0;32mif\u001b[0m \u001b[0mself\u001b[0m\u001b[0;34m.\u001b[0m\u001b[0m_sensors\u001b[0m\u001b[0;34m:\u001b[0m\u001b[0;34m\u001b[0m\u001b[0;34m\u001b[0m\u001b[0m\n",
      "\u001b[0;32m/opt/conda/lib/python3.8/selectors.py\u001b[0m in \u001b[0;36mselect\u001b[0;34m(self, timeout)\u001b[0m\n\u001b[1;32m    466\u001b[0m             \u001b[0mready\u001b[0m \u001b[0;34m=\u001b[0m \u001b[0;34m[\u001b[0m\u001b[0;34m]\u001b[0m\u001b[0;34m\u001b[0m\u001b[0;34m\u001b[0m\u001b[0m\n\u001b[1;32m    467\u001b[0m             \u001b[0;32mtry\u001b[0m\u001b[0;34m:\u001b[0m\u001b[0;34m\u001b[0m\u001b[0;34m\u001b[0m\u001b[0m\n\u001b[0;32m--> 468\u001b[0;31m                 \u001b[0mfd_event_list\u001b[0m \u001b[0;34m=\u001b[0m \u001b[0mself\u001b[0m\u001b[0;34m.\u001b[0m\u001b[0m_selector\u001b[0m\u001b[0;34m.\u001b[0m\u001b[0mpoll\u001b[0m\u001b[0;34m(\u001b[0m\u001b[0mtimeout\u001b[0m\u001b[0;34m,\u001b[0m \u001b[0mmax_ev\u001b[0m\u001b[0;34m)\u001b[0m\u001b[0;34m\u001b[0m\u001b[0;34m\u001b[0m\u001b[0m\n\u001b[0m\u001b[1;32m    469\u001b[0m             \u001b[0;32mexcept\u001b[0m \u001b[0mInterruptedError\u001b[0m\u001b[0;34m:\u001b[0m\u001b[0;34m\u001b[0m\u001b[0;34m\u001b[0m\u001b[0m\n\u001b[1;32m    470\u001b[0m                 \u001b[0;32mreturn\u001b[0m \u001b[0mready\u001b[0m\u001b[0;34m\u001b[0m\u001b[0;34m\u001b[0m\u001b[0m\n",
      "\u001b[0;31mKeyboardInterrupt\u001b[0m: "
     ]
    }
   ],
   "source": [
    "#Consumer-Tut0-1\n",
    "\n",
    "import json\n",
    "\n",
    "topic = \"Stream1\"\n",
    "# To consume latest messages and auto-commit offsets\n",
    "consumer = KafkaConsumer(topic,  bootstrap_servers=brokers, auto_offset_reset='latest', group_id=None)\n",
    "cnt=1\n",
    "for message in consumer:\n",
    "    print (\"%5d : %s:%3d:%3d: key=%s value=%30s\" % (cnt,message.topic, message.partition,\n",
    "                                          message.offset, message.key,\n",
    "                                          json.loads(message.value.decode(\"utf-8\"))))\n",
    "    cnt+=1"
   ]
  },
  {
   "cell_type": "code",
   "execution_count": null,
   "metadata": {},
   "outputs": [],
   "source": []
  }
 ],
 "metadata": {
  "kernelspec": {
   "display_name": "Python 3",
   "language": "python",
   "name": "python3"
  },
  "language_info": {
   "codemirror_mode": {
    "name": "ipython",
    "version": 3
   },
   "file_extension": ".py",
   "mimetype": "text/x-python",
   "name": "python",
   "nbconvert_exporter": "python",
   "pygments_lexer": "ipython3",
   "version": "3.8.5"
  }
 },
 "nbformat": 4,
 "nbformat_minor": 4
}
