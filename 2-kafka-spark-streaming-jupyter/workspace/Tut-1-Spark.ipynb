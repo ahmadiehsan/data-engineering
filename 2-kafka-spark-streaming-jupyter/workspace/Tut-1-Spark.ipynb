{
 "cells": [
  {
   "cell_type": "code",
   "execution_count": 1,
   "metadata": {},
   "outputs": [
    {
     "data": {
      "text/plain": [
       "'3.0.1'"
      ]
     },
     "execution_count": 1,
     "metadata": {},
     "output_type": "execute_result"
    }
   ],
   "source": [
    "from pyspark import SparkContext\n",
    "from pyspark.sql.functions import *\n",
    "sc = SparkContext(\"local[2]\", \"KafkaTest\")\n",
    "sc.version"
   ]
  },
  {
   "cell_type": "code",
   "execution_count": 2,
   "metadata": {},
   "outputs": [],
   "source": [
    "from pyspark.sql import SparkSession\n",
    "from pyspark.sql.functions import explode\n",
    "from pyspark.sql.functions import split"
   ]
  },
  {
   "cell_type": "code",
   "execution_count": 3,
   "metadata": {},
   "outputs": [],
   "source": [
    "\n",
    "\n",
    "brokers = \"kafka1:9092,kafka2:9092\"\n",
    "\n",
    "spark = SparkSession \\\n",
    "    .builder \\\n",
    "    .appName(\"StructuredNetworkWordCount\") \\\n",
    "    .getOrCreate()\n",
    "\n"
   ]
  },
  {
   "cell_type": "code",
   "execution_count": 4,
   "metadata": {},
   "outputs": [
    {
     "data": {
      "text/plain": [
       "'3.0.1'"
      ]
     },
     "execution_count": 4,
     "metadata": {},
     "output_type": "execute_result"
    }
   ],
   "source": [
    "spark.version"
   ]
  },
  {
   "cell_type": "code",
   "execution_count": 5,
   "metadata": {},
   "outputs": [],
   "source": [
    "from pyspark.sql.types import *\n",
    "schema = StructType([\n",
    "    StructField(\"count\", IntegerType()),\n",
    "    StructField(\"time\", StringType())])\n",
    "\n"
   ]
  },
  {
   "cell_type": "code",
   "execution_count": 6,
   "metadata": {},
   "outputs": [
    {
     "name": "stdout",
     "output_type": "stream",
     "text": [
      "+---+-----+---------+\n",
      "|key|value|timestamp|\n",
      "+---+-----+---------+\n",
      "+---+-----+---------+\n",
      "\n"
     ]
    }
   ],
   "source": [
    "df = spark \\\n",
    "    .readStream \\\n",
    "    .format(\"kafka\") \\\n",
    "    .option(\"kafka.bootstrap.servers\",brokers) \\\n",
    "    .option(\"subscribe\",\"Tut01\") \\\n",
    "    .option(\"startingOffsets\", \"earliest\") \\\n",
    "    .load()\n",
    "\n",
    "ds = df.selectExpr(\"CAST (key AS STRING)\", \"CAST(value AS STRING)\", \"timestamp\")\n",
    "ds.writeStream.queryName(\"temp2\").format(\"memory\").start()\n",
    "spark.sql(\"select * from  temp2 limit 10\").show()"
   ]
  },
  {
   "cell_type": "code",
   "execution_count": 7,
   "metadata": {},
   "outputs": [],
   "source": [
    "inputstream = spark \\\n",
    "  .readStream \\\n",
    "  .format(\"kafka\") \\\n",
    "  .option(\"kafka.bootstrap.servers\",brokers) \\\n",
    "  .option(\"subscribe\", \"Tut01\") \\\n",
    "  .option(\"auto.offset.reset\", \"latest\") \\\n",
    "  .option(\"startingOffsets\", \"earliest\") \\\n",
    "  .load()\n"
   ]
  },
  {
   "cell_type": "code",
   "execution_count": 8,
   "metadata": {},
   "outputs": [
    {
     "data": {
      "text/plain": [
       "DataFrame[key: binary, value: binary, topic: string, partition: int, offset: bigint, timestamp: timestamp, timestampType: int]"
      ]
     },
     "metadata": {},
     "output_type": "display_data"
    }
   ],
   "source": [
    "display(inputstream)"
   ]
  },
  {
   "cell_type": "code",
   "execution_count": 9,
   "metadata": {},
   "outputs": [],
   "source": [
    "import json\n",
    "# data = dsraw.select(json.loads(col(\"value\").cast(\"string\"), schema))\n",
    "ds =inputstream.selectExpr(\"CAST(value AS STRING)\")"
   ]
  },
  {
   "cell_type": "code",
   "execution_count": 10,
   "metadata": {},
   "outputs": [],
   "source": [
    "rawQuery = ds \\\n",
    "        .writeStream \\\n",
    "        .queryName(\"qraw\")\\\n",
    "        .format(\"memory\")\\\n",
    "        .outputMode(\"append\") \\\n",
    "        .start()\n",
    "        \n"
   ]
  },
  {
   "cell_type": "code",
   "execution_count": 11,
   "metadata": {},
   "outputs": [
    {
     "name": "stdout",
     "output_type": "stream",
     "text": [
      "+-----+\n",
      "|value|\n",
      "+-----+\n",
      "+-----+\n",
      "\n"
     ]
    }
   ],
   "source": [
    "raw = spark.sql(\"select * from qraw\")\n",
    "raw.show()"
   ]
  },
  {
   "cell_type": "code",
   "execution_count": 12,
   "metadata": {},
   "outputs": [
    {
     "name": "stdout",
     "output_type": "stream",
     "text": [
      "+-----+\n",
      "|value|\n",
      "+-----+\n",
      "+-----+\n",
      "\n",
      "+-----+\n",
      "|value|\n",
      "+-----+\n",
      "+-----+\n",
      "\n",
      "+-----+\n",
      "|value|\n",
      "+-----+\n",
      "+-----+\n",
      "\n",
      "+-----+\n",
      "|value|\n",
      "+-----+\n",
      "+-----+\n",
      "\n",
      "+-----+\n",
      "|value|\n",
      "+-----+\n",
      "+-----+\n",
      "\n"
     ]
    }
   ],
   "source": [
    "from time import sleep\n",
    "for x in range(5):\n",
    "    spark.table(\"qraw\").show()\n",
    "    sleep(5)"
   ]
  },
  {
   "cell_type": "code",
   "execution_count": null,
   "metadata": {},
   "outputs": [
    {
     "data": {
      "text/plain": [
       "{'message': 'Waiting for data to arrive',\n",
       " 'isDataAvailable': False,\n",
       " 'isTriggerActive': False}"
      ]
     },
     "metadata": {},
     "output_type": "display_data"
    },
    {
     "name": "stdout",
     "output_type": "stream",
     "text": [
      "+--------------------+\n",
      "|               value|\n",
      "+--------------------+\n",
      "|{\"count\": 0, \"tim...|\n",
      "|{\"count\": 1, \"tim...|\n",
      "|{\"count\": 2, \"tim...|\n",
      "|{\"count\": 3, \"tim...|\n",
      "|{\"count\": 4, \"tim...|\n",
      "|{\"count\": 5, \"tim...|\n",
      "|{\"count\": 6, \"tim...|\n",
      "|{\"count\": 7, \"tim...|\n",
      "|{\"count\": 8, \"tim...|\n",
      "|{\"count\": 9, \"tim...|\n",
      "|{\"count\": 10, \"ti...|\n",
      "|{\"count\": 11, \"ti...|\n",
      "|{\"count\": 12, \"ti...|\n",
      "|{\"count\": 13, \"ti...|\n",
      "|{\"count\": 14, \"ti...|\n",
      "|{\"count\": 15, \"ti...|\n",
      "|{\"count\": 16, \"ti...|\n",
      "|{\"count\": 17, \"ti...|\n",
      "|{\"count\": 18, \"ti...|\n",
      "|{\"count\": 19, \"ti...|\n",
      "+--------------------+\n",
      "only showing top 20 rows\n",
      "\n"
     ]
    },
    {
     "data": {
      "text/plain": [
       "None"
      ]
     },
     "metadata": {},
     "output_type": "display_data"
    }
   ],
   "source": [
    "from IPython.display import display, clear_output\n",
    "import time \n",
    "while True:\n",
    "    clear_output(wait=True)\n",
    "    display(rawQuery.status )\n",
    "    display(spark.sql(\"select * from qraw\").show())\n",
    "    time.sleep(5)"
   ]
  },
  {
   "cell_type": "code",
   "execution_count": null,
   "metadata": {},
   "outputs": [],
   "source": [
    "print(\"===============================================================\")\n",
    "query  = inputstream \\\n",
    "      .selectExpr(\"CAST(key AS STRING)\",\"CAST(value AS STRING)\")\\\n",
    "      .writeStream\\\n",
    "      .outputMode(\"append\")\\\n",
    "      .format(\"console\")\\\n",
    "      .start()\n",
    "\n",
    "print(\"===============================================================> \" +str(query.isActive))\n",
    "query.awaitTermination()"
   ]
  },
  {
   "cell_type": "code",
   "execution_count": null,
   "metadata": {},
   "outputs": [],
   "source": [
    "alertQuery = ds \\\n",
    "    .writeStream \\\n",
    "        .queryName(\"qalerts\")\\\n",
    "        .format(\"memory\")\\\n",
    "        .start()"
   ]
  },
  {
   "cell_type": "code",
   "execution_count": 7,
   "metadata": {},
   "outputs": [
    {
     "name": "stdout",
     "output_type": "stream",
     "text": [
      "Status True\n"
     ]
    }
   ],
   "source": [
    "from pyspark.sql.functions import *\n",
    "from pyspark.sql.types import *\n",
    "import statistics\n",
    "\n",
    "\n",
    "KAFKA_TOPIC = \"Stream_Test\"\n",
    "\n",
    "\n",
    "#   spark = SparkSession \\\n",
    "#         .builder \\\n",
    "#         .appName(\"PySpark Structured Streaming with Kafka Demo\") \\\n",
    "#         .master(\"local[*]\") \\\n",
    "#         .config(\"spark.jars\", \"/home/cldr/streams-dev/libs/spark-sql-kafka-0-10_2.11-2.4.4.jar,/home/cldr/streams-dev/libs/kafka-clients-2.0.0.jar\") \\\n",
    "#         .config(\"spark.executor.extraClassPath\", \"/home/cldr/streams-dev/libs/spark-sql-kafka-0-10_2.11-2.4.4.jar:/home/cldr/streams-dev/libs/kafka-clients-2.0.0.jar\") \\\n",
    "#         .config(\"spark.executor.extraLibrary\", \"/home/cldr/streams-dev/libs/spark-sql-kafka-0-10_2.11-2.4.4.jar:/home/cldr/streams-dev/libs/kafka-clients-2.0.0.jar\") \\\n",
    "#         .config(\"spark.driver.extraClassPath\", \"/home/cldr/streams-dev/libs/spark-sql-kafka-0-10_2.11-2.4.4.jar:/home/cldr/streams-dev/libs/kafka-clients-2.0.0.jar\") \\\n",
    "#         .getOrCreate()\n",
    "\n",
    "spark.sparkContext.setLogLevel(\"DEBUG\")\n",
    "\n",
    "schema = StructType() \\\n",
    "        .add(\"WheelAngle\", IntegerType()) \\\n",
    "        .add(\"acceleration\", IntegerType()) \\\n",
    "        .add(\"heading\", IntegerType()) \\\n",
    "        .add(\"reading_time\", IntegerType()) \\\n",
    "        .add(\"tractionForce\", IntegerType()) \\\n",
    "        .add(\"vel_latitudinal\", IntegerType()) \\\n",
    "        .add(\"vel_longitudinal\", IntegerType()) \\\n",
    "        .add(\"velocity\", IntegerType()) \\\n",
    "        .add(\"x_pos\", IntegerType()) \\\n",
    "        .add(\"y_pos\", IntegerType()) \\\n",
    "        .add(\"yawrate\", IntegerType())\n",
    "\n",
    "\n",
    " # Construct a streaming DataFrame that reads from testtopic\n",
    "trans_det_df = spark \\\n",
    "        .readStream \\\n",
    "        .format(\"kafka\") \\\n",
    "        .option(\"kafka.bootstrap.servers\", brokers) \\\n",
    "        .option(\"subscribe\", KAFKA_TOPIC) \\\n",
    "        .option(\"startingOffsets\", \"latest\") \\\n",
    "        .load() \\\n",
    "        .selectExpr(\"CAST(value as STRING)\", \"CAST(timestamp as STRING)\",\"CAST(topic as STRING)\")\n",
    "\n",
    "print(\"Status \" + str(trans_det_df.isStreaming))\n",
    "\n",
    "#(from_json(col(\"value\").cast(\"string\"),schema))\n",
    "\n",
    "    #Q1 =  trans_det_df.select(from_json(col(\"value\"), schema).alias(\"parsed_value\"), \"timestamp\")\n",
    "    #Q2 =  trans_det_d.select(\"parsed_value*\", \"timestamp\")\n",
    "\n",
    "\n",
    "# query = trans_det_df.writeStream \\\n",
    "#             .format(\"console\") \\\n",
    "#             .option(\"truncate\",\"false\") \\\n",
    "#             .start() \\\n",
    "#             .awaitTermination()\n",
    "\n",
    "query = trans_det_df \\\n",
    "    .writeStream \\\n",
    "    .format(\"memory\") \\\n",
    "    .queryName(\"testData2\") \\\n",
    "    .outputMode(\"append\") \\\n",
    "    .start()"
   ]
  },
  {
   "cell_type": "code",
   "execution_count": 24,
   "metadata": {
    "scrolled": true
   },
   "outputs": [
    {
     "name": "stdout",
     "output_type": "stream",
     "text": [
      "Status True\n"
     ]
    }
   ],
   "source": [
    "from pyspark.sql.types import *\n",
    "import statistics\n",
    "from pyspark.sql import SparkSession\n",
    "from pyspark import SparkContext\n",
    "from pyspark.sql.functions import *\n",
    "\n",
    "\n",
    "brokers = \"kafka1:9092,kafka2:9092\"\n",
    "\n",
    "spark = SparkSession \\\n",
    "    .builder \\\n",
    "    .appName(\"StructuredStreamingKafka\") \\\n",
    "    .getOrCreate()\n",
    "\n",
    "KAFKA_TOPIC = \"Stream_Test\"\n",
    "\n",
    "\n",
    "#   spark = SparkSession \\\n",
    "#         .builder \\\n",
    "#         .appName(\"PySpark Structured Streaming with Kafka Demo\") \\\n",
    "#         .master(\"local[*]\") \\\n",
    "#         .config(\"spark.jars\", \"/home/cldr/streams-dev/libs/spark-sql-kafka-0-10_2.11-2.4.4.jar,/home/cldr/streams-dev/libs/kafka-clients-2.0.0.jar\") \\\n",
    "#         .config(\"spark.executor.extraClassPath\", \"/home/cldr/streams-dev/libs/spark-sql-kafka-0-10_2.11-2.4.4.jar:/home/cldr/streams-dev/libs/kafka-clients-2.0.0.jar\") \\\n",
    "#         .config(\"spark.executor.extraLibrary\", \"/home/cldr/streams-dev/libs/spark-sql-kafka-0-10_2.11-2.4.4.jar:/home/cldr/streams-dev/libs/kafka-clients-2.0.0.jar\") \\\n",
    "#         .config(\"spark.driver.extraClassPath\", \"/home/cldr/streams-dev/libs/spark-sql-kafka-0-10_2.11-2.4.4.jar:/home/cldr/streams-dev/libs/kafka-clients-2.0.0.jar\") \\\n",
    "#         .getOrCreate()\n",
    "\n",
    "spark.sparkContext.setLogLevel(\"DEBUG\")\n",
    "\n",
    "schema = StructType() \\\n",
    "        .add(\"WheelAngle\", IntegerType()) \\\n",
    "        .add(\"acceleration\", IntegerType()) \\\n",
    "        .add(\"heading\", IntegerType()) \\\n",
    "        .add(\"reading_time\", IntegerType()) \\\n",
    "        .add(\"tractionForce\", IntegerType()) \\\n",
    "        .add(\"vel_latitudinal\", IntegerType()) \\\n",
    "        .add(\"vel_longitudinal\", IntegerType()) \\\n",
    "        .add(\"velocity\", IntegerType()) \\\n",
    "        .add(\"x_pos\", IntegerType()) \\\n",
    "        .add(\"y_pos\", IntegerType()) \\\n",
    "        .add(\"yawrate\", IntegerType())\n",
    "\n",
    "\n",
    " # Construct a streaming DataFrame that reads from testtopic\n",
    "trans_det_df = spark \\\n",
    "        .readStream \\\n",
    "        .format(\"kafka\") \\\n",
    "        .option(\"kafka.bootstrap.servers\", brokers) \\\n",
    "        .option(\"subscribe\", KAFKA_TOPIC) \\\n",
    "        .option(\"startingOffsets\", \"earliest\") \\\n",
    "        .load() \\\n",
    "        .selectExpr(\"CAST(value as STRING)\", \"CAST(timestamp as STRING)\",\"CAST(topic as STRING)\")\n",
    "\n",
    "print(\"Status \" + str(trans_det_df.isStreaming))\n",
    "\n",
    "#(from_json(col(\"value\").cast(\"string\"),schema))\n",
    "\n",
    "    #Q1 =  trans_det_df.select(from_json(col(\"value\"), schema).alias(\"parsed_value\"), \"timestamp\")\n",
    "    #Q2 =  trans_det_d.select(\"parsed_value*\", \"timestamp\")\n",
    "\n",
    "\n",
    "# query = trans_det_df.writeStream \\\n",
    "#             .format(\"console\") \\\n",
    "#             .option(\"truncate\",\"false\") \\\n",
    "#             .start() \n",
    "\n",
    "query = trans_det_df \\\n",
    "    .writeStream \\\n",
    "    .format(\"memory\") \\\n",
    "    .queryName(\"testData200\") \\\n",
    "    .outputMode(\"append\") \\\n",
    "    .start()\n",
    "# from IPython.display import display, clear_output\n",
    "# import time \n",
    "# while True:\n",
    "#     clear_output(wait=True)\n",
    "#     display(query.status )\n",
    "#     display(spark.sql(\"select * from testData2\").show())\n",
    "#     time.sleep(5)"
   ]
  },
  {
   "cell_type": "code",
   "execution_count": 25,
   "metadata": {},
   "outputs": [
    {
     "data": {
      "text/plain": [
       "{'message': 'Terminated with exception: Writing job aborted.',\n",
       " 'isDataAvailable': False,\n",
       " 'isTriggerActive': False}"
      ]
     },
     "metadata": {},
     "output_type": "display_data"
    },
    {
     "name": "stdout",
     "output_type": "stream",
     "text": [
      "+-----+---------+-----+\n",
      "|value|timestamp|topic|\n",
      "+-----+---------+-----+\n",
      "+-----+---------+-----+\n",
      "\n"
     ]
    },
    {
     "ename": "KeyboardInterrupt",
     "evalue": "",
     "output_type": "error",
     "traceback": [
      "\u001b[0;31m---------------------------------------------------------------------------\u001b[0m",
      "\u001b[0;31mKeyboardInterrupt\u001b[0m                         Traceback (most recent call last)",
      "\u001b[0;32m<ipython-input-25-7ebca0880f0e>\u001b[0m in \u001b[0;36m<module>\u001b[0;34m\u001b[0m\n\u001b[1;32m      6\u001b[0m     \u001b[0mraw\u001b[0m \u001b[0;34m=\u001b[0m \u001b[0mspark\u001b[0m\u001b[0;34m.\u001b[0m\u001b[0msql\u001b[0m\u001b[0;34m(\u001b[0m\u001b[0;34m\"select * from testData200\"\u001b[0m\u001b[0;34m)\u001b[0m\u001b[0;34m\u001b[0m\u001b[0;34m\u001b[0m\u001b[0m\n\u001b[1;32m      7\u001b[0m     \u001b[0mraw\u001b[0m\u001b[0;34m.\u001b[0m\u001b[0mshow\u001b[0m\u001b[0;34m(\u001b[0m\u001b[0;34m)\u001b[0m\u001b[0;34m\u001b[0m\u001b[0;34m\u001b[0m\u001b[0m\n\u001b[0;32m----> 8\u001b[0;31m     \u001b[0mtime\u001b[0m\u001b[0;34m.\u001b[0m\u001b[0msleep\u001b[0m\u001b[0;34m(\u001b[0m\u001b[0;36m5\u001b[0m\u001b[0;34m)\u001b[0m\u001b[0;34m\u001b[0m\u001b[0;34m\u001b[0m\u001b[0m\n\u001b[0m",
      "\u001b[0;31mKeyboardInterrupt\u001b[0m: "
     ]
    }
   ],
   "source": [
    "from IPython.display import display, clear_output\n",
    "import time \n",
    "while True:\n",
    "    clear_output(wait=True)\n",
    "    display(query.status )\n",
    "    raw = spark.sql(\"select * from testData200\")\n",
    "    raw.show()\n",
    "    time.sleep(5)"
   ]
  },
  {
   "cell_type": "code",
   "execution_count": null,
   "metadata": {},
   "outputs": [],
   "source": []
  },
  {
   "cell_type": "code",
   "execution_count": null,
   "metadata": {},
   "outputs": [],
   "source": []
  }
 ],
 "metadata": {
  "kernelspec": {
   "display_name": "Python 3",
   "language": "python",
   "name": "python3"
  },
  "language_info": {
   "codemirror_mode": {
    "name": "ipython",
    "version": 3
   },
   "file_extension": ".py",
   "mimetype": "text/x-python",
   "name": "python",
   "nbconvert_exporter": "python",
   "pygments_lexer": "ipython3",
   "version": "3.8.5"
  }
 },
 "nbformat": 4,
 "nbformat_minor": 4
}
